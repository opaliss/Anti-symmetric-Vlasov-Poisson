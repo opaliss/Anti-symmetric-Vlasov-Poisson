{
 "cells": [
  {
   "cell_type": "markdown",
   "id": "d47d217e-b400-4b9c-a818-2b989133b828",
   "metadata": {},
   "source": [
    "# Plasma dispersion relation: linear growth and damping rate\n",
    "\n",
    "# Landau Damping\n",
    "The complex frequency is described as $\\omega = \\omega_{r} + i \\gamma$, where $\\gamma$ is the growth or damping rate.\n",
    "\n",
    "Following Peter Gary's *Theory of space plasma microinstabilities* (2009) Ch (2), the dispersion relation is given by Eq. (2.2.8), i.e.\n",
    "$$\n",
    "1+ \\sum_{j} K_{j}(k, \\omega) = 0\n",
    "$$\n",
    "where $K_{j}(k, w) = \\frac{-k_{j}^{2}}{2k^2} Z'(\\xi_{j})$, $Z(\\xi_{j})$ is the plasma dispersion function, and $\\xi_{j} = \\frac{\\omega}{\\sqrt{2}kv_{j}}$. Note that $Z'(\\xi_{j}) = -2[1+\\xi_{j} Z(\\xi_{j})]$, resulting in \n",
    "$$\n",
    "1  +\\sum_{j} \\frac{k_{j}^{2}}{k^2} [1+\\xi_{j} Z(\\xi_{j})] = 0.\n",
    "$$\n",
    "The plasma dispersion function is defined as \n",
    "$$\n",
    "Z(\\xi) = \\frac{1}{\\pi} \\int_{-\\infty}^{\\infty} \\frac{dx \\exp(-x^2)}{x-\\xi} = e^{-\\xi^2} \\left( \\frac{i}{\\sqrt{\\pi}} -2\\int_{0}^{\\xi} e^{x^{2}} dx\\right) = i \\sqrt{\\pi} w(\\xi)\n",
    "$$\n",
    "where $w(\\xi)$ is the Faddeeva function."
   ]
  },
  {
   "cell_type": "code",
   "execution_count": 1,
   "id": "c83e78f1",
   "metadata": {},
   "outputs": [],
   "source": [
    "import numpy as np\n",
    "import matplotlib.pyplot as plt\n",
    "from scipy.special import wofz \n",
    "import scipy"
   ]
  },
  {
   "cell_type": "code",
   "execution_count": 2,
   "id": "a68406cb-7998-41b2-bfc5-c40337684bac",
   "metadata": {},
   "outputs": [],
   "source": [
    "def Z_fun(z):\n",
    "    return 1j*np.sqrt(np.pi)*wofz(z)\n",
    "\n",
    "def Z_p_fun(z):\n",
    "    return -2.0*(1+z*Z_fun(z))\n",
    "\n",
    "def Z_pp_fun(z):\n",
    "    return -2.0*(Z_fun(z) + z*Z_p_fun(z))"
   ]
  },
  {
   "cell_type": "code",
   "execution_count": 3,
   "id": "a3a6f21c",
   "metadata": {},
   "outputs": [],
   "source": [
    "# Despersion relation\n",
    "def disp_k(alpha=1):\n",
    "    return lambda omega : 1 -  0.5*Z_p_fun(omega/(np.sqrt(2)*alpha))\n",
    "\n",
    "# Despersion relation derivative [by omega]\n",
    "def disp_p_k(alpha=1):\n",
    "    return lambda omega : -  0.5*Z_pp_fun(omega/(np.sqrt(2)*alpha))/(np.sqrt(2)*alpha)"
   ]
  },
  {
   "cell_type": "code",
   "execution_count": 4,
   "id": "ef7daafd",
   "metadata": {},
   "outputs": [],
   "source": [
    "def newton(guess, f, df, rtol=1e-8, atol=1e-16, maxit=10000):\n",
    "    \n",
    "    it = 1\n",
    "    prev_x = guess\n",
    "    next_x = prev_x - f(prev_x)/df(prev_x)\n",
    "    \n",
    "    # Another possible condition\n",
    "    #  abs( f(next_x) )>rtol*abs( f(guess) )+atol\n",
    "    while( abs(next_x-prev_x)>rtol*abs(guess)+atol and it<maxit ):\n",
    "        prev_x = next_x\n",
    "        next_x = prev_x - f(prev_x)/df(prev_x)\n",
    "        it = it+1\n",
    "        \n",
    "    return next_x,it"
   ]
  },
  {
   "cell_type": "code",
   "execution_count": 5,
   "id": "672cf7e8",
   "metadata": {},
   "outputs": [
    {
     "name": "stdout",
     "output_type": "stream",
     "text": [
      "w(k=1) =  (2.0459048656906247-0.8513304586920561j)\n",
      "iterations for convergence =  12\n",
      "dispersion satisfied =  3.3306690738754696e-16j\n"
     ]
    }
   ],
   "source": [
    "sol, it = newton(guess=1.0-0.6j, f=disp_k(alpha=1), df=disp_p_k(alpha=1))\n",
    "print(\"w(k=1) = \", sol)\n",
    "print(\"iterations for convergence = \", it)\n",
    "print(\"dispersion satisfied = \", disp_k(alpha=1)(sol))"
   ]
  },
  {
   "cell_type": "markdown",
   "id": "c326bc17-c294-475f-9ab0-31910eb67f46",
   "metadata": {},
   "source": [
    "linear Landau damping most simplied equation"
   ]
  },
  {
   "cell_type": "code",
   "execution_count": 6,
   "id": "af09f6a7-6dc6-4027-9247-0dd118d58549",
   "metadata": {},
   "outputs": [],
   "source": [
    "def func(omega):\n",
    "    zeta =  omega/np.sqrt(2)\n",
    "    return 2  + zeta*Z_fun(zeta)"
   ]
  },
  {
   "cell_type": "code",
   "execution_count": 7,
   "id": "4dcaf0c3-09da-4b94-adcf-3df4c3aee478",
   "metadata": {},
   "outputs": [
    {
     "name": "stdout",
     "output_type": "stream",
     "text": [
      "(2.0459048656906242-0.8513304586920561j)\n"
     ]
    },
    {
     "data": {
      "text/plain": [
       "(-4.440892098500626e-16+5.551115123125783e-16j)"
      ]
     },
     "execution_count": 7,
     "metadata": {},
     "output_type": "execute_result"
    }
   ],
   "source": [
    "sol = scipy.optimize.newton(func, 2.2-0.5j, maxiter=10000)\n",
    "print(sol)\n",
    "func(sol)"
   ]
  },
  {
   "cell_type": "markdown",
   "id": "829583c3-3f4f-48e4-96f8-bf829de9c828",
   "metadata": {},
   "source": [
    "# Two-stream instability \n",
    "\n",
    "The complex frequency is described as $\\omega = \\omega_{r} + i \\gamma$, where $\\gamma$ is the growth or damping rate.\n",
    "The zeroth-order distributions for the two species as drifting Maxwellians:\n",
    "$$\n",
    "f_{j}^{0}(v) = \\frac{n_{j}}{(2\\pi v_{j}^2)^{3/2}}\\exp\\left(-\\frac{-(v-u_{j})^2}{2v_{j}^{2}} \\right)\n",
    "$$\n",
    "\n",
    "Following Peter Gary's *Theory of space plasma microinstabilities* (2009), the dispersion relation is given by \n",
    "\n",
    "$$\n",
    "1+ \\sum_{j} K_{j}(k, \\omega) = 0\n",
    "$$\n",
    "\n",
    "where $K_{j}(k, w) = \\frac{-k_{j}^{2}}{2k^2} Z'(\\xi_{j})$, $Z(\\xi_{j})$ is the plasma dispersion function, and $\\xi_{j} = \\frac{\\omega - ku_{j}}{\\sqrt{2}kv_{j}}$. Note that $Z(\\xi_{j}) = -2[1+\\xi_{j} Z(\\xi_{j})]$, resulting in \n",
    "$$\n",
    "1  +\\sum_{j} \\frac{k_{j}^{2}}{k^2} [1+\\xi_{j} Z(\\xi_{j})] = 0.\n",
    "$$\n",
    "The plasma dispersion function is defined as \n",
    "$$\n",
    "Z(\\xi) = \\frac{1}{\\sqrt{\\pi}} \\int_{-\\infty}^{\\infty} \\frac{dx \\exp(-x^2)}{x-\\xi} = e^{-\\xi^2} \\left( \\frac{i}{\\sqrt{\\pi}} -2\\int_{0}^{\\xi} e^{x^{2}} dx\\right) = i \\sqrt{\\pi} w(\\xi)\n",
    "$$\n",
    "where $w(\\xi)$ is the Faddeeva function."
   ]
  },
  {
   "cell_type": "code",
   "execution_count": 8,
   "id": "f55ba1eb-01a3-4f00-b9c3-ce4eda041afa",
   "metadata": {},
   "outputs": [],
   "source": [
    "# Despersion relation\n",
    "def disp_k(alpha=1, u_1=1, u_2=-1):\n",
    "    return lambda omega : 1 - 0.25*Z_p_fun((omega-u_1)/(np.sqrt(2)*alpha))/(alpha**2)- 0.25*Z_p_fun((omega-u_2)/(np.sqrt(2)*alpha))/(alpha**2)\n",
    "\n",
    "# Despersion relation derivative [by omega]\n",
    "def disp_p_k(alpha=1, u_1=1, u_2=-1):\n",
    "    return lambda omega : -  0.5*(0.5*Z_pp_fun((omega-u_1)/(np.sqrt(2)*alpha))/(np.sqrt(2)*(alpha**3))+ 0.5*Z_pp_fun((omega-u_2)/(np.sqrt(2)*alpha))/((alpha**3)*np.sqrt(2)))"
   ]
  },
  {
   "cell_type": "code",
   "execution_count": 9,
   "id": "e7baf593-79c9-483d-848d-cfc8d339eeda",
   "metadata": {},
   "outputs": [
    {
     "name": "stdout",
     "output_type": "stream",
     "text": [
      "w(k=1) =  0.18486005593754073j\n",
      "iterations for convergence =  3\n",
      "dispersion satisfied =  (1.5543122344752192e-15+0j)\n"
     ]
    }
   ],
   "source": [
    "sol, it = newton(guess=0+0.185j, f=disp_k(alpha=1/(2*np.sqrt(2))), df=disp_p_k(alpha=1/(2*np.sqrt(2))))\n",
    "print(\"w(k=1) = \", sol)\n",
    "print(\"iterations for convergence = \", it)\n",
    "print(\"dispersion satisfied = \", disp_k(alpha=1/(2*np.sqrt(2)))(sol))"
   ]
  },
  {
   "cell_type": "markdown",
   "id": "7972a1b0-c47c-4aa9-940a-45c2c85489d1",
   "metadata": {},
   "source": [
    "two-stream instability most simplified equation"
   ]
  },
  {
   "cell_type": "code",
   "execution_count": 10,
   "id": "09cec9df-b916-455a-8602-a9142970c2d0",
   "metadata": {},
   "outputs": [],
   "source": [
    "def func(omega):\n",
    "    u_1=1\n",
    "    u_2=-1\n",
    "    zeta_1 = (omega-u_1)*2\n",
    "    zeta_2 = (omega-u_2)*2\n",
    "    return 9  + 4*zeta_1*Z_fun(zeta_1) + 4*zeta_2*Z_fun(zeta_2) "
   ]
  },
  {
   "cell_type": "code",
   "execution_count": 11,
   "id": "6f437a94-d6f7-46e2-89a5-3a2d0e116469",
   "metadata": {},
   "outputs": [
    {
     "name": "stdout",
     "output_type": "stream",
     "text": [
      "(-8.557817587084934e-17+0.18486005593754054j)\n"
     ]
    },
    {
     "data": {
      "text/plain": [
       "(4.440892098500626e-15+1.1102230246251565e-16j)"
      ]
     },
     "execution_count": 11,
     "metadata": {},
     "output_type": "execute_result"
    }
   ],
   "source": [
    "sol = scipy.optimize.newton(func, 0+0.1j, maxiter=10000)\n",
    "print(sol)\n",
    "func(sol)"
   ]
  },
  {
   "cell_type": "markdown",
   "id": "ed492de5-e556-4b41-989e-d39e9d31e590",
   "metadata": {},
   "source": [
    "# Ion Acoustic Current Driven Instability \n",
    "\n",
    "The complex frequency is described as $\\omega = \\omega_{r} + i \\gamma$, where $\\gamma$ is the growth or damping rate.\n",
    "The zeroth-order distributions for the two species as drifting Maxwellians:\n",
    "$$\n",
    "f_{j}^{0}(v) = \\frac{n_{j}}{(2\\pi v_{j}^2)^{3/2}}\\exp\\left(-\\frac{-(v-u_{j})^2}{2v_{j}^{2}} \\right)\n",
    "$$\n",
    "\n",
    "Following Peter Gary's *Theory of space plasma microinstabilities* (2009), the dispersion relation is given by \n",
    "\n",
    "$$\n",
    "1+ \\sum_{j} K_{j}(k, \\omega) = 0\n",
    "$$\n",
    "\n",
    "where $K_{j}(k, w) = \\frac{-k_{j}^{2}}{2k^2} Z'(\\xi_{j})$, $Z(\\xi_{j})$ is the plasma dispersion function, and $\\xi_{j} = \\frac{\\omega - ku_{j}}{\\sqrt{2}kv_{j}}$. Note that $Z(\\xi_{j}) = -2[1+\\xi_{j} Z(\\xi_{j})]$, resulting in \n",
    "$$\n",
    "1  +\\sum_{j} \\frac{k_{j}^{2}}{k^2} [1+\\xi_{j} Z(\\xi_{j})] = 0.\n",
    "$$\n",
    "The plasma dispersion function is defined as \n",
    "$$\n",
    "Z(\\xi) = \\frac{1}{\\sqrt{\\pi}} \\int_{-\\infty}^{\\infty} \\frac{dx \\exp(-x^2)}{x-\\xi} = e^{-\\xi^2} \\left( \\frac{i}{\\sqrt{\\pi}} -2\\int_{0}^{\\xi} e^{x^{2}} dx\\right) = i \\sqrt{\\pi} w(\\xi)\n",
    "$$\n",
    "where $w(\\xi)$ is the Faddeeva function."
   ]
  },
  {
   "cell_type": "code",
   "execution_count": 37,
   "id": "3df1a05a-52cf-432f-a87b-976619ea90fa",
   "metadata": {},
   "outputs": [],
   "source": [
    "# Despersion relation\n",
    "def disp_k(alpha_1=1, alpha_2=1, u_1=1, u_2=0):\n",
    "    return lambda omega : 1 - 0.5*Z_p_fun((omega-u_1)/(np.sqrt(2)*alpha_1))/(alpha_1**2)- 0.5*Z_p_fun((omega-u_2)/(np.sqrt(2)*alpha_2))/(alpha_2**2)\n",
    "\n",
    "# Despersion relation derivative [by omega]\n",
    "def disp_p_k(alpha_1=1, alpha_2=1, u_1=1, u_2=0):\n",
    "    return lambda omega : -  0.5*Z_pp_fun((omega-u_1)/(np.sqrt(2)*alpha_1))/(np.sqrt(2)*(alpha_1**3))- 0.5*Z_pp_fun((omega-u_2)/(np.sqrt(2)*alpha_2))/((alpha_2**3)*np.sqrt(2))"
   ]
  },
  {
   "cell_type": "code",
   "execution_count": 48,
   "id": "1ed389c4-0917-4e3f-bf16-bfb07898af4d",
   "metadata": {},
   "outputs": [
    {
     "name": "stdout",
     "output_type": "stream",
     "text": [
      "w(k=1) =  (1.2162699232779275+0.15004756564704408j)\n",
      "iterations for convergence =  5\n",
      "dispersion satisfied =  (-5.218048215738236e-15+7.216449660063518e-16j)\n"
     ]
    }
   ],
   "source": [
    "sol, it = newton(guess=1+0.2j, f=disp_k(alpha_1=1, alpha_2=np.sqrt(1/np.sqrt(50)), u_1=3), df=disp_p_k(alpha_1=1, alpha_2=np.sqrt(1/np.sqrt(50)), u_1=3))\n",
    "print(\"w(k=1) = \", sol)\n",
    "print(\"iterations for convergence = \", it)\n",
    "print(\"dispersion satisfied = \", disp_k(alpha_1=1, alpha_2=np.sqrt(1/np.sqrt(50)), u_1=3)(sol))"
   ]
  },
  {
   "cell_type": "code",
   "execution_count": 55,
   "id": "781706d8-4023-47d0-b090-a23d0ba0b8b9",
   "metadata": {},
   "outputs": [
    {
     "name": "stdout",
     "output_type": "stream",
     "text": [
      "w(k=1) =  (1.068145703872401+0.20314184452154455j)\n",
      "iterations for convergence =  4\n",
      "dispersion satisfied =  (-9.325873406851315e-15-7.049916206369744e-15j)\n"
     ]
    }
   ],
   "source": [
    "sol, it = newton(guess=1+0.2j, f=disp_k(alpha_1=1, alpha_2=np.sqrt(1/50), u_1=3), df=disp_p_k(alpha_1=1, alpha_2=np.sqrt(1/50), u_1=3))\n",
    "print(\"w(k=1) = \", sol)\n",
    "print(\"iterations for convergence = \", it)\n",
    "print(\"dispersion satisfied = \", disp_k(alpha_1=1, alpha_2=np.sqrt(1/50), u_1=3)(sol))"
   ]
  },
  {
   "cell_type": "code",
   "execution_count": null,
   "id": "90925459-375b-408b-b6a2-4cf463347505",
   "metadata": {},
   "outputs": [],
   "source": []
  }
 ],
 "metadata": {
  "kernelspec": {
   "display_name": "Python 3 (ipykernel)",
   "language": "python",
   "name": "python3"
  },
  "language_info": {
   "codemirror_mode": {
    "name": "ipython",
    "version": 3
   },
   "file_extension": ".py",
   "mimetype": "text/x-python",
   "name": "python",
   "nbconvert_exporter": "python",
   "pygments_lexer": "ipython3",
   "version": "3.9.12"
  }
 },
 "nbformat": 4,
 "nbformat_minor": 5
}
