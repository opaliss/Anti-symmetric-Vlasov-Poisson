{
 "cells": [
  {
   "cell_type": "code",
   "execution_count": 1,
   "id": "78eb86ec",
   "metadata": {},
   "outputs": [],
   "source": [
    "import sys, os\n",
    "sys.path.append(os.path.abspath(os.path.join('..')))"
   ]
  },
  {
   "cell_type": "code",
   "execution_count": 2,
   "id": "e6c68c9b",
   "metadata": {},
   "outputs": [],
   "source": [
    "import numpy as np \n",
    "import scipy.special\n",
    "import scipy.fft\n",
    "from operators.SW_sqrt import solve_poisson_equation_two_stream, psi_ln_sw, mass, momentum, energy_k"
   ]
  },
  {
   "cell_type": "code",
   "execution_count": 3,
   "id": "14cdd974",
   "metadata": {},
   "outputs": [],
   "source": [
    "import matplotlib.pyplot as plt\n",
    "from mycolorpy import colorlist as mcp\n",
    "import matplotlib.pylab as pl\n",
    "import matplotlib\n",
    "font = {'family' : 'serif',\n",
    "        'size'   : 14}\n",
    "\n",
    "matplotlib.rc('font', **font)\n",
    "matplotlib.rc('xtick', labelsize=14) \n",
    "matplotlib.rc('ytick', labelsize=14) "
   ]
  },
  {
   "cell_type": "markdown",
   "id": "bff2c705",
   "metadata": {},
   "source": [
    "# Two-Stream Instability SW square-root"
   ]
  },
  {
   "cell_type": "code",
   "execution_count": 5,
   "id": "1e2677f8",
   "metadata": {},
   "outputs": [],
   "source": [
    "# set up configuration parameters\n",
    "# number of mesh points in x \n",
    "Nx = 101\n",
    "# number of spectral expansions\n",
    "Nv = 100\n",
    "# epsilon displacement in initial electron distribution \n",
    "epsilon = 1e-3\n",
    "# velocity scaling of electron and ion\n",
    "alpha_e1 = 0.5 \n",
    "alpha_e2 = 0.5\n",
    "alpha_i = np.sqrt(2/1863)\n",
    "# x grid is from 0 to L\n",
    "L = 2 * np.pi\n",
    "# spacial spacing dx = x[i+1] - x[i]\n",
    "dx = L/(Nx-1)\n",
    "# final time (nondimensional)\n",
    "T = 50\n",
    "# velocity scaling \n",
    "u_e1 = 1\n",
    "u_e2 = -1 \n",
    "u_i = 0\n",
    "# mass normalized\n",
    "m_e1 = 1\n",
    "m_e2 = 1\n",
    "m_i = 1863\n",
    "# charge normalized\n",
    "q_e1 = -1\n",
    "q_e2 = -1\n",
    "q_i = 1"
   ]
  },
  {
   "cell_type": "code",
   "execution_count": 6,
   "id": "c423764e",
   "metadata": {},
   "outputs": [],
   "source": [
    "# velocity grid for plotting purposes\n",
    "v = np.linspace(-3, 3, int(1e5))\n",
    "# spatial grid \n",
    "x = np.linspace(0, L, Nx)"
   ]
  },
  {
   "cell_type": "code",
   "execution_count": 8,
   "id": "c36c242d",
   "metadata": {},
   "outputs": [],
   "source": [
    "# initial condition of the first expansion coefficient\n",
    "C_0e1 = np.sqrt(0.5 * (1 + epsilon * np.cos(x)) / alpha_e1)\n",
    "C_0e2 = np.sqrt(0.5 * (1 + epsilon * np.cos(x)) / alpha_e2)\n",
    "C_0i = np.sqrt(np.ones(Nx) / alpha_i)"
   ]
  },
  {
   "cell_type": "code",
   "execution_count": 9,
   "id": "3c6368ee",
   "metadata": {},
   "outputs": [],
   "source": [
    "# the distribution function of electrons and protons for plotting purposes\n",
    "f_0e1 = np.outer(C_0e1, psi_ln_sw((v-u_e1)/alpha_e1, n=0))\n",
    "f_0e2 = np.outer(C_0e2, psi_ln_sw((v-u_e2)/alpha_e2, n=0))\n",
    "f_0i = np.outer(C_0i, psi_ln_sw((v-u_i)/alpha_i, n=0))"
   ]
  },
  {
   "cell_type": "code",
   "execution_count": null,
   "id": "d5585e39",
   "metadata": {},
   "outputs": [],
   "source": [
    "# plot initial condition \n",
    "fig, ax = plt.subplots(ncols=3, sharey=False, figsize=(10, 3))\n",
    "pos = ax[0].pcolormesh(x, v, (f_0e1**2).T, cmap=\"inferno\", vmin=0, vmax=np.max(f_0e1**2))\n",
    "ax[0].set_xlabel(\"x\")\n",
    "ax[0].set_xticks([0, np.pi, 2*np.pi])\n",
    "ax[0].set_xticklabels([r\"0\", r\"$\\pi$\", r\"$2\\pi$\"])\n",
    "ax[0].set_ylabel(\"v\")\n",
    "ax[0].set_yticks([-3, 0, 3])\n",
    "cbar = fig.colorbar(pos)\n",
    "cbar.ax.set_yticks([0, 0.1, 0.2, 0.3, 0.4, 0.5])\n",
    "cbar.ax.set_ylabel('$f^{e1}(x, v, t=0)$', rotation=90)\n",
    "ax[0].set_title(\"$f^{e1}(x, v, t=0)$\")\n",
    "\n",
    "pos = ax[1].pcolormesh(x, v, (f_0e2**2).T, cmap=\"inferno\", vmin=0, vmax=np.max(f_0e2**2))\n",
    "ax[1].set_xticks([0, np.pi, 2*np.pi])\n",
    "ax[1].set_xticklabels([r\"0\", r\"$\\pi$\", r\"$2\\pi$\"])\n",
    "ax[1].set_xlabel(\"x\")\n",
    "ax[1].set_ylabel(\"v\")\n",
    "ax[1].set_yticks([-3, 0, 3])\n",
    "cbar = fig.colorbar(pos)\n",
    "cbar.ax.set_yticks([0, 0.1, 0.2, 0.3, 0.4, 0.5])\n",
    "cbar.ax.set_ylabel('$f^{e2}(x, v, t=0)$', rotation=90)\n",
    "ax[1].set_title(\"$f^{e2}(x, v, t=0)$\")\n",
    "\n",
    "pos = ax[2].pcolormesh(x, v, (f_0i**2).T, cmap=\"inferno\")\n",
    "ax[2].set_xticks([0, np.pi, 2*np.pi])\n",
    "ax[2].set_xticklabels([r\"0\", r\"$\\pi$\", r\"$2\\pi$\"])\n",
    "ax[2].set_xlabel(\"x\")\n",
    "ax[2].set_ylabel(\"v\")\n",
    "ax[2].set_yticks([-0.1, 0, 0.1])\n",
    "ax[2].set_ylim(-0.1, 0.1)\n",
    "cbar = fig.colorbar(pos)\n",
    "cbar.ax.set_ylabel('$f^{i}(x, v, t=0)$', rotation=90)\n",
    "ax[2].set_title(\"$f^{i}(x, v, t=0)$\")\n",
    "\n",
    "plt.tight_layout()\n",
    "plt.savefig(\"../figs/SW_sqrt/two_stream/initial_condition_two_stream.png\", dpi=600)"
   ]
  },
  {
   "cell_type": "code",
   "execution_count": 11,
   "id": "f332f03f-9fb0-4bc3-925c-c039ff381917",
   "metadata": {},
   "outputs": [
    {
     "data": {
      "image/png": "[encoded data removed]",
      "text/plain": [
       "<Figure size 500x300 with 1 Axes>"
      ]
     },
     "metadata": {},
     "output_type": "display_data"
    }
   ],
   "source": [
    "# plot initial condition vertical slice\n",
    "fig, ax = plt.subplots(figsize=(5, 3))\n",
    "_ = plt.plot(v, f_0e1[55, :]**2 + f_0e2[55, :]**2)\n",
    "_ = ax.set_xlabel(\"v\")\n",
    "_ = ax.set_ylabel(\"$f^{e}(x= L/2, v, t)$\")\n",
    "_ = ax.set_xlim(v[0], v[-1])\n",
    "ax.spines['right'].set_visible(False)\n",
    "ax.spines['top'].set_visible(False)"
   ]
  },
  {
   "cell_type": "code",
   "execution_count": 15,
   "id": "61270237",
   "metadata": {},
   "outputs": [
    {
     "name": "stdout",
     "output_type": "stream",
     "text": [
      "(30001, 5001)\n",
      "(5001,)\n"
     ]
    }
   ],
   "source": [
    "# load simulation data \n",
    "sol_midpoint_u = np.load(\"../data/SW_sqrt/two_stream/sol_midpoint_u_\"+ str(Nv) + \"_newton.npy\")\n",
    "sol_midpoint_t = np.load(\"../data/SW_sqrt/two_stream/sol_midpoint_t_\"+ str(Nv) + \"_newton.npy\")\n",
    "\n",
    "# print shape of simulation data \n",
    "print(np.shape(sol_midpoint_u))\n",
    "print(np.shape(sol_midpoint_t))"
   ]
  },
  {
   "cell_type": "code",
   "execution_count": 16,
   "id": "5ea065fd",
   "metadata": {},
   "outputs": [],
   "source": [
    "# initialize electric field\n",
    "E_midpoint = np.zeros((Nx, len(sol_midpoint_t)))"
   ]
  },
  {
   "cell_type": "code",
   "execution_count": 18,
   "id": "3136f9ff",
   "metadata": {
    "scrolled": true
   },
   "outputs": [],
   "source": [
    "# initialize the states for implicit midpoint\n",
    "state_e1_midpoint = np.zeros((Nv, Nx-1, len(sol_midpoint_t)))\n",
    "state_e2_midpoint = np.zeros((Nv, Nx-1, len(sol_midpoint_t)))\n",
    "state_i_midpoint = np.zeros((Nv, Nx-1, len(sol_midpoint_t)))\n",
    "\n",
    "\n",
    "for ii in range(len(sol_midpoint_t)):\n",
    "    for jj in range(Nv):\n",
    "        # unwind the flattening in order to solve the Vlasov-Poisson system\n",
    "        state_e1_midpoint[jj, :, ii] = sol_midpoint_u[jj*(Nx-1): (jj+1)*(Nx-1), ii]\n",
    "        state_e2_midpoint[jj, :, ii] = sol_midpoint_u[Nv*(Nx-1) + jj*(Nx-1): Nv*(Nx-1) + (jj+1)*(Nx-1), ii]\n",
    "        # static/background ions\n",
    "        state_i_midpoint[0, :, ii] = np.sqrt(np.ones(Nx - 1) / alpha_i)\n",
    "\n",
    "    # solve Poisson's equation \n",
    "    E_midpoint[:-1, ii] = solve_poisson_equation_two_stream(state_e1=state_e1_midpoint[:, :, ii], \n",
    "                                           state_e2=state_e2_midpoint[:, :, ii],\n",
    "                                           state_i=state_i_midpoint[:, :, ii], \n",
    "                                           alpha_e1=alpha_e1, \n",
    "                                           alpha_e2=alpha_e2, \n",
    "                                           alpha_i=alpha_i, \n",
    "                                           dx=dx, L=L)\n",
    "    E_midpoint[-1, ii] = E_midpoint[0, ii]"
   ]
  },
  {
   "cell_type": "code",
   "execution_count": 19,
   "id": "29cfef31",
   "metadata": {},
   "outputs": [],
   "source": [
    "# save electric field\n",
    "np.save(\"../data/SW_sqrt/two_stream/sol_midpoint_e_\" + str(Nv) + \".npy\", E_midpoint)"
   ]
  },
  {
   "cell_type": "code",
   "execution_count": 20,
   "id": "452de060",
   "metadata": {},
   "outputs": [],
   "source": [
    "# compute electric field growth rate\n",
    "E1_midpoint = np.zeros(len(sol_midpoint_t))\n",
    "\n",
    "for ii in range(len(sol_midpoint_t)):\n",
    "    E1_midpoint[ii] = np.abs(scipy.fft.fft(E_midpoint[:, ii]))[1]"
   ]
  },
  {
   "cell_type": "code",
   "execution_count": 21,
   "id": "504a274f",
   "metadata": {},
   "outputs": [
    {
     "data": {
      "image/png": "[encoded data removed]",
      "text/plain": [
       "<Figure size 400x300 with 2 Axes>"
      ]
     },
     "metadata": {},
     "output_type": "display_data"
    }
   ],
   "source": [
    "# plot electric field evolution \n",
    "fig, ax = plt.subplots(figsize=(4, 3))\n",
    "pos = ax.pcolormesh(x, sol_midpoint_t, E_midpoint.T, cmap=\"jet\")\n",
    "cbar = fig.colorbar(pos)\n",
    "cbar.ax.set_ylabel(\"$E(x, t)$\", rotation=90)\n",
    "ax.set_title(\"implicit midpoint\")\n",
    "ax.set_xlabel(\"$x$\")\n",
    "_ = ax.set_xticks([0, np.pi, 2*np.pi])\n",
    "_ = ax.set_xticklabels([r\"0\", r\"$\\pi$\", r\"$2\\pi$\"])\n",
    "_ = ax.set_ylabel(\"$t$\")\n",
    "plt.tight_layout()\n",
    "plt.savefig(\"../figs/SW_sqrt/two_stream/two_stream_electric_field.png\", dpi=600)"
   ]
  },
  {
   "cell_type": "code",
   "execution_count": null,
   "id": "bfc4de27",
   "metadata": {},
   "outputs": [],
   "source": [
    "# plot electric field growth rate\n",
    "fig, ax = plt.subplots(figsize=(6, 4))\n",
    "ax.plot(sol_midpoint_t, E1_midpoint, \"-.\", c=\"blue\", linewidth=3, label=\"SW-sqrt\")\n",
    "ax.plot(sol_midpoint_t, np.exp(0.185*sol_midpoint_t)*(4e-3), linewidth=3, color=\"red\", label=r\"theory $\\gamma = 0.185$\") \n",
    "\n",
    "ax.set_yscale(\"log\")\n",
    "ax.spines['right'].set_visible(False)\n",
    "ax.spines['top'].set_visible(False)\n",
    "ax.set_ylabel(\"$|\\hat{E}(1)|$\")\n",
    "ax.set_xlabel(\"$t$\")\n",
    "ax.set_xlim(0, T)\n",
    "legend = ax.legend(ncols=1, fancybox=False, shadow=False, fontsize=12, loc='upper left')\n",
    "legend.get_frame().set_alpha(0)\n",
    "plt.tight_layout()\n",
    "plt.savefig(\"../figs/SW_sqrt/two_stream/two_stream_electric_field.png\", dpi=600)"
   ]
  },
  {
   "cell_type": "code",
   "execution_count": null,
   "id": "723706d0",
   "metadata": {},
   "outputs": [],
   "source": [
    "# plot phase space evolution \n",
    "fig, ax = plt.subplots(nrows=5, figsize=(5, 10))\n",
    "for tt, ii in enumerate(range(0, len(sol_midpoint_t), int(len(sol_midpoint_t)//6))):\n",
    "    distribution = np.zeros((Nx, len(v)))\n",
    "    for jj in range(Nv):\n",
    "        distribution += np.outer(np.append(state_e2_midpoint[jj, :, ii], state_e2_midpoint[jj, 0, ii]), psi_ln_sw((v-u_e2)/alpha_e2, n=jj))**2+ np.outer(np.append(state_e1_midpoint[jj, :, ii], state_e1_midpoint[jj, 0, ii]), psi_ln_sw((v-u_e1)/alpha_e1, n=jj))**2\n",
    "    levels = np.append(-0.1, np.linspace(0, 0.6, 15))\n",
    "    colors = mcp.gen_color(cmap=\"inferno\",n=len(levels)-1)\n",
    "    pos = ax[tt].contourf(x, v, distribution.T, levels=levels, colors=np.append([\"w\"], colors))\n",
    "    ax[tt].set_xlabel(\"x\")\n",
    "    ax[tt].set_xticks([0, np.pi, 2*np.pi])\n",
    "    ax[tt].set_xticklabels([r\"0\", r\"$\\pi$\", r\"$2\\pi$\"])\n",
    "    ax[tt].set_ylabel(\"v\")\n",
    "    cbar = fig.colorbar(pos)\n",
    "    cbar.ax.set_ylabel('$f^{e}(x, v, t=$' + str(round(sol_midpoint_t[ii], 2)) + \")\", rotation=90)\n",
    "    ax[tt].set_title(\"$f^{e}(x, v, t=$\" + str(round(sol_midpoint_t[ii], 2)) + \")\")\n",
    "plt.tight_layout()\n",
    "plt.savefig(\"../figs/SW_sqrt/two_stream/two_stream_evolution.png\", dpi=600)"
   ]
  },
  {
   "cell_type": "code",
   "execution_count": null,
   "id": "cec2ef0e",
   "metadata": {},
   "outputs": [],
   "source": [
    "# plot the last timestamp electron distribution function in phase space \n",
    "fig, ax = plt.subplots(figsize=(6, 3))\n",
    "ii = -1\n",
    "distribution1 = np.zeros((Nx, len(v)))\n",
    "distribution2 = np.zeros((Nx, len(v)))\n",
    "for jj in range(Nv):\n",
    "    distribution1 += np.outer(np.append(state_e2_midpoint[jj, :, ii], state_e2_midpoint[jj, 0, ii]), psi_ln_sw((v-u_e2)/alpha_e2, n=jj))\n",
    "    distribution2 += + np.outer(np.append(state_e1_midpoint[jj, :, ii], state_e1_midpoint[jj, 0, ii]), psi_ln_sw((v-u_e1)/alpha_e1, n=jj))\n",
    "\n",
    "levels = np.append(-0.1, np.linspace(0, 0.65, 12))\n",
    "colors = mcp.gen_color(cmap=\"inferno\",n=len(levels)-1)\n",
    "pos = ax.contourf(x, v, (distribution1**2 + distribution2**2).T, levels=levels, colors=np.append([\"w\"], colors))\n",
    "ax.set_xlabel(\"x\")\n",
    "ax.set_xticks([0, np.pi, 2*np.pi])\n",
    "ax.set_xticklabels([r\"0\", r\"$\\pi$\", r\"$2\\pi$\"])\n",
    "ax.set_ylabel(\"v\")\n",
    "cbar = fig.colorbar(pos)\n",
    "cbar.ax.set_ylabel('$f^{e}(x, v, t=$' + str(round(sol_midpoint_t[ii])) + \")\", rotation=90)\n",
    "cbar.ax.set_yticks([0, 0.1, 0.2, 0.3, 0.4, 0.5, 0.6, 0.6])\n",
    "#cbar.ax.set_ylim(0, 0.6)\n",
    "ax.set_ylim(-3, 3)\n",
    "plt.tight_layout()\n",
    "plt.savefig(\"../figs/SW_sqrt/two_stream/two_stream_electron_distribution_t_45_SW_sqrt_\" + str(Nv) + \".png\", dpi=600)"
   ]
  },
  {
   "cell_type": "code",
   "execution_count": null,
   "id": "cf7d72a5-464b-4637-a068-3ed4f2ff4381",
   "metadata": {},
   "outputs": [],
   "source": [
    "# save distribution at the last timestamp\n",
    "np.save(\"../data/SW_sqrt/two_stream/poisson/distribution_45_Nv_\"+ str(Nv) + \".npy\", distribution1**2 + distribution2**2)"
   ]
  },
  {
   "cell_type": "code",
   "execution_count": null,
   "id": "f6dda696-7285-4a58-a51c-ea4b0f2cd371",
   "metadata": {},
   "outputs": [],
   "source": [
    "fig, ax = plt.subplots(figsize=(6, 3))\n",
    "_ = ax.plot(v, distribution[20, :], c=\"r\", linewidth=2)\n",
    "_ = ax.plot(v, distribution[-20, :], c=\"r\", linewidth=2)\n",
    "_ = ax.set_xlim(-3, 3)\n",
    "_ = ax.set_xlabel(\"$v$\")\n",
    "_ = ax.set_ylabel(\"$f^e(x=\\pi, v, t=45)$\")"
   ]
  },
  {
   "cell_type": "markdown",
   "id": "0edd5b3f",
   "metadata": {},
   "source": [
    "# conservation laws: mass, momentum, and energy "
   ]
  },
  {
   "cell_type": "markdown",
   "id": "391d1914",
   "metadata": {},
   "source": [
    "### mass conservation"
   ]
  },
  {
   "cell_type": "code",
   "execution_count": null,
   "id": "a4a81fac",
   "metadata": {},
   "outputs": [],
   "source": [
    "# compute mass evolution \n",
    "mass_midpoint = np.zeros(len(sol_midpoint_t))\n",
    "\n",
    "for ii in range(0, len(sol_midpoint_t)):\n",
    "    mass_midpoint[ii] = mass(state=state_e1_midpoint[:, :, ii], alpha_s=alpha_e1, dx=dx, Nv=Nv)\\\n",
    "                      + mass(state=state_e2_midpoint[:, :, ii], alpha_s=alpha_e2, dx=dx, Nv=Nv)\\\n",
    "                      + mass(state=state_i_midpoint[:, :, ii], alpha_s=alpha_i, dx=dx, Nv=Nv)"
   ]
  },
  {
   "cell_type": "code",
   "execution_count": null,
   "id": "436e2488",
   "metadata": {},
   "outputs": [],
   "source": [
    "# plot mass evolution \n",
    "fig, ax = plt.subplots(figsize=(6, 4))\n",
    "ax.plot(sol_midpoint_t, np.abs(mass_midpoint - mass_midpoint[0]), \"-\")\n",
    "ax.set_yscale(\"log\")\n",
    "ax.spines['right'].set_visible(False)\n",
    "ax.spines['top'].set_visible(False)\n",
    "ax.set_ylabel(r\"$|\\mathcal{N}^{tot}(t) - \\mathcal{N}^{tot}(t=0)|$\", fontsize=15)\n",
    "ax.set_xlabel(\"$t$\")\n",
    "ax.set_xlim(0, T)\n",
    "plt.tight_layout()"
   ]
  },
  {
   "cell_type": "markdown",
   "id": "2ae8d66c",
   "metadata": {},
   "source": [
    "### momentum conservation "
   ]
  },
  {
   "cell_type": "code",
   "execution_count": null,
   "id": "f22dbec9",
   "metadata": {},
   "outputs": [],
   "source": [
    "# momentum evolution \n",
    "momentum_midpoint = np.zeros(len(sol_midpoint_t))\n",
    "\n",
    "for ii in range(0, len(sol_midpoint_t)):\n",
    "    momentum_midpoint[ii] = momentum(state=state_e1_midpoint[:, :, ii], alpha_s=alpha_e1, dx=dx, Nv=Nv, u_s=u_e1, m_s=m_e1)\\\n",
    "                           +momentum(state=state_e2_midpoint[:, :, ii], alpha_s=alpha_e2, dx=dx, Nv=Nv, u_s=u_e2, m_s=m_e2)\\\n",
    "                           +momentum(state=state_i_midpoint[:, :, ii], alpha_s=alpha_i, dx=dx, Nv=Nv, u_s=u_i, m_s=m_i)"
   ]
  },
  {
   "cell_type": "code",
   "execution_count": null,
   "id": "6cb4fff5",
   "metadata": {},
   "outputs": [],
   "source": [
    "# plot momentum evolution \n",
    "fig, ax = plt.subplots(figsize=(6, 4))\n",
    "ax.plot(sol_midpoint_t, np.abs(momentum_midpoint - momentum_midpoint[0]), \"-\")\n",
    "ax.set_yscale(\"log\")\n",
    "ax.spines['right'].set_visible(False)\n",
    "ax.spines['top'].set_visible(False)\n",
    "ax.set_ylabel(r\"$|P_{mech}(t)-P_{mech}(t=0)|$\", fontsize=15)\n",
    "ax.set_xlabel(\"$ t$\")\n",
    "ax.set_xlim(0, T)\n",
    "plt.tight_layout()"
   ]
  },
  {
   "cell_type": "markdown",
   "id": "51394d8b",
   "metadata": {},
   "source": [
    "### energy conservation"
   ]
  },
  {
   "cell_type": "code",
   "execution_count": null,
   "id": "afed308a",
   "metadata": {},
   "outputs": [],
   "source": [
    "# compute kinetic + potential energy evolution \n",
    "energy_k_midpoint = np.zeros(len(sol_midpoint_t))\n",
    "energy_p_midpoint = np.zeros(len(sol_midpoint_t))\n",
    "\n",
    "for ii in range(0, len(sol_midpoint_t)):\n",
    "    energy_k_midpoint[ii] = energy_k(state=state_e1_midpoint[:, :, ii], Nv=Nv, alpha_s=alpha_e1, m_s=m_e1, dx=dx, u_s=u_e1)\\\n",
    "                           +energy_k(state=state_e2_midpoint[:, :, ii], Nv=Nv, alpha_s=alpha_e2, m_s=m_e2, dx=dx, u_s=u_e2)\\\n",
    "                           +energy_k(state=state_i_midpoint[:, :, ii], Nv=Nv, alpha_s=alpha_i, m_s=m_i, dx=dx, u_s=u_i)\n",
    "    \n",
    "    energy_p_midpoint[ii] = 0.5*dx*np.sum((E_midpoint[:-1, ii])**2)"
   ]
  },
  {
   "cell_type": "code",
   "execution_count": null,
   "id": "e2f4dbe5",
   "metadata": {},
   "outputs": [],
   "source": [
    "# plot energy evolution \n",
    "fig, ax = plt.subplots(figsize=(6, 4))\n",
    "ax.plot(sol_midpoint_t, np.abs(energy_p_midpoint + energy_k_midpoint -energy_p_midpoint[0]-energy_k_midpoint[0]), \"-\", color=\"blue\", linewidth=2, label=\"numerical\")\n",
    "ax.plot(sol_midpoint_t, sol_midpoint_u[-1, :], ls=\"--\", color=\"red\", linewidth=2, label=\"analytic\")\n",
    "ax.spines['right'].set_visible(False)\n",
    "ax.spines['top'].set_visible(False)\n",
    "ax.set_ylabel(r\"$|\\mathcal{\\epsilon}_{total}(t)-\\mathcal{\\epsilon}_{total}(t=0)|$\", fontsize=15)\n",
    "ax.set_xlabel(\"$t$\")\n",
    "ax.set_xlim(0, T)\n",
    "ax.set_yscale(\"log\")\n",
    "plt.tight_layout()"
   ]
  },
  {
   "cell_type": "code",
   "execution_count": null,
   "id": "91f79f26-d5cd-4cb1-bfbd-e4666d5ecd90",
   "metadata": {},
   "outputs": [],
   "source": [
    "# plot energy exchange \n",
    "fig, ax = plt.subplots(figsize=(5, 3))\n",
    "ax.plot(sol_midpoint_t, energy_k_midpoint - energy_k_midpoint[0] - sol_midpoint_u[-1, :], label=\"Kinetic\")\n",
    "ax.plot(sol_midpoint_t, energy_p_midpoint - energy_p_midpoint[0], label=\"Electric\")\n",
    "ax.set_ylabel(r\"$|\\mathcal{\\epsilon}(t)-\\mathcal{\\epsilon}(t=0)|$\", fontsize=15)\n",
    "ax.set_xlabel(\"$t$\")\n",
    "ax.spines['right'].set_visible(False)\n",
    "ax.spines['top'].set_visible(False)\n",
    "ax.set_xlim(0, 10)\n",
    "legend = ax.legend(ncols=1, fancybox=False, shadow=False, fontsize=12)\n",
    "legend.get_frame().set_alpha(0)\n",
    "plt.savefig(\"../figs/SW_sqrt/two_stream/energy_transfer.png\", dpi=600)"
   ]
  },
  {
   "cell_type": "code",
   "execution_count": null,
   "id": "86b2813b",
   "metadata": {},
   "outputs": [],
   "source": [
    "# plot overall conservation properties\n",
    "fig, ax = plt.subplots(ncols=1, figsize=(7, 3))\n",
    "\n",
    "ax.scatter(sol_midpoint_t[::20], np.abs(mass_midpoint-mass_midpoint[0])[::20], s=30, color=\"black\", label=r\"particle number $\\mathcal{N}(t)$\")\n",
    "ax.plot(sol_midpoint_t[::20], np.abs(momentum_midpoint-momentum_midpoint[0])[::20], \"x\", color=\"blue\", label=r\"momentum $\\mathcal{P}(t)$\")\n",
    "ax.plot(sol_midpoint_t[::20], np.abs(energy_p_midpoint + energy_k_midpoint -energy_p_midpoint[0]-energy_k_midpoint[0])[::20], \">\", color=\"purple\", label=r\"energy $\\mathcal{E}(t)$\")\n",
    "ax.plot(sol_midpoint_t, np.abs(sol_midpoint_u[-2]), \"-\", c=\"green\", linewidth=3, label=r\"analytic drift $\\mathcal{P}(t)$\")\n",
    "ax.plot(sol_midpoint_t, np.abs(sol_midpoint_u[-1]), \":\", c=\"red\", linewidth=3, label=r\"analytic drift $\\mathcal{E}(t)$\")\n",
    "ax.set_ylim(10**-15, 10**0)\n",
    "ax.spines['right'].set_visible(False)\n",
    "ax.spines['top'].set_visible(False)\n",
    "ax.set_ylabel(r\"Absolute Error\")\n",
    "ax.set_xlabel(\"$t$\")\n",
    "ax.set_xlim(0, T)\n",
    "ax.set_yscale(\"log\")\n",
    "legend = ax.legend(ncols=2, fontsize=14, loc='upper center', bbox_to_anchor=(0.5, 1.3))\n",
    "text = ax.text(-0.2,1.05, \" \", transform=ax.transAxes)\n",
    "legend.get_frame().set_alpha(0)\n",
    "plt.savefig(\"../figs/SW_sqrt/two_stream/conservation_\" + str(Nv) + \"_two_stream_SW_sqrt.png\", bbox_extra_artists=(legend,text), bbox_inches='tight', dpi=600)"
   ]
  }
 ],
 "metadata": {
  "kernelspec": {
   "display_name": "Python 3 (ipykernel)",
   "language": "python",
   "name": "python3"
  },
  "language_info": {
   "codemirror_mode": {
    "name": "ipython",
    "version": 3
   },
   "file_extension": ".py",
   "mimetype": "text/x-python",
   "name": "python",
   "nbconvert_exporter": "python",
   "pygments_lexer": "ipython3",
   "version": "3.9.12"
  }
 },
 "nbformat": 4,
 "nbformat_minor": 5
}
