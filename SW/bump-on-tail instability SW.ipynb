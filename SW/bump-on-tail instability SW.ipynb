{
 "cells": [
  {
   "cell_type": "code",
   "execution_count": 45,
   "id": "f1eac9d3",
   "metadata": {},
   "outputs": [],
   "source": [
    "import sys, os\n",
    "sys.path.append(os.path.abspath(os.path.join('..')))"
   ]
  },
  {
   "cell_type": "code",
   "execution_count": 46,
   "id": "e6c68c9b",
   "metadata": {},
   "outputs": [],
   "source": [
    "import numpy as np \n",
    "import scipy.fft\n",
    "from operators.SW_sqrt import psi_ln_sw\n",
    "from operators.SW import solve_poisson_equation_two_stream, total_mass, total_momentum, total_energy_k"
   ]
  },
  {
   "cell_type": "code",
   "execution_count": 47,
   "id": "14cdd974",
   "metadata": {},
   "outputs": [],
   "source": [
    "import matplotlib.pyplot as plt\n",
    "import matplotlib\n",
    "from mycolorpy import colorlist as mcp\n",
    "font = {'family' : 'serif',\n",
    "        'size'   : 14}\n",
    "\n",
    "matplotlib.rc('font', **font)\n",
    "matplotlib.rc('xtick', labelsize=14) \n",
    "matplotlib.rc('ytick', labelsize=14) "
   ]
  },
  {
   "cell_type": "markdown",
   "id": "bff2c705",
   "metadata": {},
   "source": [
    "# Bump-on-tail Instability SW"
   ]
  },
  {
   "cell_type": "code",
   "execution_count": 48,
   "id": "1e2677f8",
   "metadata": {},
   "outputs": [],
   "source": [
    "# set up configuration parameters\n",
    "# number of mesh points in x\n",
    "Nx = 101\n",
    "# number of spectral expansions\n",
    "Nv = 101\n",
    "# epsilon displacement in initial electron distribution\n",
    "epsilon = 0.03\n",
    "# velocity scaling of electron and ion\n",
    "alpha_e1 = 1\n",
    "alpha_e2 = 0.5\n",
    "alpha_i = np.sqrt(1 / 1863)\n",
    "# x grid is from 0 to L\n",
    "L = 20 * np.pi\n",
    "# spacial spacing dx = x[i+1] - x[i]\n",
    "dx = L / (Nx - 1)\n",
    "# final time\n",
    "T = 20\n",
    "# velocity scaling\n",
    "u_e1 = 0\n",
    "u_e2 = 4.5\n",
    "u_i = 0\n",
    "# mass normalized\n",
    "m_e1 = 1\n",
    "m_e2 = 1\n",
    "m_i = 1863\n",
    "# charge normalized\n",
    "q_e1 = -1\n",
    "q_e2 = -1\n",
    "q_i = 1"
   ]
  },
  {
   "cell_type": "code",
   "execution_count": 49,
   "id": "c423764e",
   "metadata": {},
   "outputs": [],
   "source": [
    "# velocity grid for plotting purposes\n",
    "v = np.linspace(-8, 8, int(1e5))\n",
    "# spatial grid \n",
    "x = np.linspace(0, L, Nx)"
   ]
  },
  {
   "cell_type": "code",
   "execution_count": 50,
   "id": "e7de431f",
   "metadata": {},
   "outputs": [
    {
     "name": "stdout",
     "output_type": "stream",
     "text": [
      "(20205, 2001)\n",
      "(2001,)\n"
     ]
    }
   ],
   "source": [
    "# load simulation data\n",
    "sol_midpoint_u = np.load(\"../data/SW/bump_on_tail/sol_midpoint_u_\" + str(Nv) + \".npy\")\n",
    "sol_midpoint_t = np.load(\"../data/SW/bump_on_tail/sol_midpoint_t_\" + str(Nv) + \".npy\")\n",
    "\n",
    "# print shape of simulation data\n",
    "print(np.shape(sol_midpoint_u))\n",
    "print(np.shape(sol_midpoint_t))"
   ]
  },
  {
   "cell_type": "code",
   "execution_count": 51,
   "id": "6e107948",
   "metadata": {},
   "outputs": [],
   "source": [
    "# initialize the electric potential\n",
    "E_midpoint = np.zeros((Nx, len(sol_midpoint_t)))"
   ]
  },
  {
   "cell_type": "code",
   "execution_count": null,
   "id": "3136f9ff",
   "metadata": {
    "scrolled": true
   },
   "outputs": [],
   "source": [
    "# initialize the states \n",
    "state_e1_midpoint = np.zeros((Nv, Nx-1, len(sol_midpoint_t)))\n",
    "state_e2_midpoint = np.zeros((Nv, Nx-1, len(sol_midpoint_t)))\n",
    "state_i_midpoint = np.zeros((Nv, Nx-1, len(sol_midpoint_t)))\n",
    "\n",
    "for ii in range(len(sol_midpoint_t)):\n",
    "    for jj in range(Nv):\n",
    "        # unwind the flattening in order to solve the Vlasov-Poisson system\n",
    "        state_e1_midpoint[jj, :, ii] = sol_midpoint_u[jj*(Nx-1): (jj+1)*(Nx-1), ii]\n",
    "        state_e2_midpoint[jj, :, ii] = sol_midpoint_u[Nv*(Nx-1) + jj*(Nx-1): Nv*(Nx-1) + (jj+1)*(Nx-1), ii]\n",
    "        # static/background ions\n",
    "        state_i_midpoint[0, :, ii] = (1 / (np.sqrt(2 * np.sqrt(np.pi)))) * np.ones(Nx-1) / alpha_i\n",
    "    \n",
    "    E_midpoint[:-1, ii] = solve_poisson_equation_two_stream(state_e1=state_e1_midpoint[:, :, ii],\n",
    "                                                              state_e2=state_e2_midpoint[:, :, ii],\n",
    "                                                              state_i=state_i_midpoint[:, :, ii],\n",
    "                                                              alpha_e1=alpha_e1,\n",
    "                                                              alpha_e2=alpha_e2,\n",
    "                                                              alpha_i=alpha_i, \n",
    "                                                              dx=dx, \n",
    "                                                              Nx=Nx-1, \n",
    "                                                              Nv=Nv, L=L)\n",
    "    E_midpoint[-1, ii] = E_midpoint[0, ii]"
   ]
  },
  {
   "cell_type": "code",
   "execution_count": null,
   "id": "d5585e39",
   "metadata": {},
   "outputs": [],
   "source": [
    "# plot initial condition\n",
    "fig, ax = plt.subplots(ncols=3, sharey=False, figsize=(10, 3))\n",
    "f_0e1 = np.outer(np.append(state_e1_midpoint[0, :, 0], state_e1_midpoint[0, 0, 0]), psi_ln_sw((v-u_e1)/alpha_e1, n=0))\n",
    "pos = ax[0].pcolormesh(x, v, (f_0e1).T, cmap=\"inferno\")\n",
    "ax[0].set_xlabel(\"x\")\n",
    "ax[0].set_xticks([0, 10*np.pi, 20*np.pi])\n",
    "ax[0].set_xticklabels([r\"0\", r\"$10\\pi$\", r\"$20\\pi$\"])\n",
    "ax[0].set_ylabel(\"v\")\n",
    "cbar = fig.colorbar(pos)\n",
    "cbar.ax.set_ylabel('$f^{e1}(x, v, t=0)$', rotation=90)\n",
    "ax[0].set_title(\"$f^{e1}(x, v, t=0)$\")\n",
    "\n",
    "f_0e2 = np.outer(np.append(state_e2_midpoint[0, :, 0], state_e2_midpoint[0, 0, 0]), psi_ln_sw((v-u_e2)/alpha_e2, n=0))\n",
    "pos = ax[1].pcolormesh(x, v, (f_0e2).T, cmap=\"inferno\")\n",
    "ax[1].set_xticks([0, 10*np.pi, 20*np.pi])\n",
    "ax[1].set_xticklabels([r\"0\", r\"$10\\pi$\", r\"$20\\pi$\"])\n",
    "ax[1].set_xlabel(\"x\")\n",
    "ax[1].set_ylabel(\"v\")\n",
    "cbar = fig.colorbar(pos)\n",
    "cbar.ax.set_ylabel('$f^{e2}(x, v, t=0)$', rotation=90)\n",
    "ax[1].set_title(\"$f^{e2}(x, v, t=0)$\")\n",
    "\n",
    "f_0i = np.outer(np.append(state_i_midpoint[0, :, 0], state_i_midpoint[0, 0, 0]), psi_ln_sw((v-u_i)/alpha_i, n=0))\n",
    "pos = ax[2].pcolormesh(x, v, (f_0i).T, cmap=\"inferno\")\n",
    "ax[2].set_xticks([0, 10*np.pi, 20*np.pi])\n",
    "ax[2].set_xticklabels([r\"0\", r\"$10\\pi$\", r\"$20\\pi$\"])\n",
    "ax[2].set_xlabel(\"x\")\n",
    "ax[2].set_ylabel(\"v\")\n",
    "ax[2].set_yticks([-0.1, 0, 0.1])\n",
    "ax[2].set_ylim(-0.1, 0.1)\n",
    "cbar = fig.colorbar(pos)\n",
    "cbar.ax.set_ylabel('$f^{i}(x, v, t=0)$', rotation=90)\n",
    "ax[2].set_title(\"$f^{i}(x, v, t=0)$\")\n",
    "\n",
    "plt.tight_layout()\n",
    "plt.savefig(\"../figs/SW/bump_on_tail/initial_condition_bump_on_tail.png\", dpi=600)"
   ]
  },
  {
   "cell_type": "code",
   "execution_count": null,
   "id": "d0e38677-d7a5-4973-a086-b4af5642a7e1",
   "metadata": {},
   "outputs": [],
   "source": [
    "fig, ax = plt.subplots(figsize=(7, 3))\n",
    "_ = plt.plot(v, (f_0e1[55, :]+ f_0e2[55, :]))\n",
    "_ = ax.set_xlabel(\"v\")\n",
    "_ = ax.set_ylabel(\"$f^{e}(x=10\\pi, v, t)$\")\n",
    "_ = ax.set_xlim(-8, 8)\n",
    "ax.spines['right'].set_visible(False)\n",
    "ax.spines['top'].set_visible(False)"
   ]
  },
  {
   "cell_type": "code",
   "execution_count": null,
   "id": "a74238c2",
   "metadata": {},
   "outputs": [],
   "source": [
    "# save electric field solution for the bump-on-tail instability \n",
    "np.save(\"../data/SW/bump_on_tail/sol_midpoint_e_\" + str(Nv)+ \".npy\", E_midpoint)"
   ]
  },
  {
   "cell_type": "code",
   "execution_count": null,
   "id": "7dfb28a9",
   "metadata": {},
   "outputs": [],
   "source": [
    "# plot electric field\n",
    "fig, ax = plt.subplots(figsize=(4, 3))\n",
    "pos = ax.contourf(x, sol_midpoint_t, E_midpoint.T, cmap=\"RdBu\", levels=10, vmax=0.6, vmin=-0.6)\n",
    "cbar = fig.colorbar(pos)\n",
    "cbar.ax.set_ylabel(\"$E_{sw}(x, t)$\", rotation=90)\n",
    "cbar.ax.set_yticks([-0.6, -0.4, -0.2, 0, 0.2, 0.4])\n",
    "ax.set_xlabel(\"x\")\n",
    "ax.set_ylabel(\"t\")\n",
    "ax.set_xticks([0, 10*np.pi, 20*np.pi])\n",
    "ax.set_xticklabels([r\"0\", r\"$10\\pi$\",  r\"$20\\pi$\"])\n",
    "plt.tight_layout()\n",
    "plt.savefig(\"../figs/SW/bump_on_tail/bump_on_tail_electric_field_SW\" + str(Nv) + \".png\", dpi=600)"
   ]
  },
  {
   "cell_type": "code",
   "execution_count": null,
   "id": "4a49cb64",
   "metadata": {},
   "outputs": [],
   "source": [
    "# compute the amplitude of the electric field wavelength k=1 for bump-on-tail\n",
    "E1_midpoint = np.zeros(len(sol_midpoint_t))\n",
    "\n",
    "for ii in range(len(sol_midpoint_t)):\n",
    "    E1_midpoint[ii] = np.abs(scipy.fft.fft(E_midpoint[:, ii]))[1]"
   ]
  },
  {
   "cell_type": "code",
   "execution_count": null,
   "id": "a13261df",
   "metadata": {},
   "outputs": [],
   "source": [
    "# plot growth rate\n",
    "fig, ax = plt.subplots(figsize=(6, 3))\n",
    "ax.plot(sol_midpoint_t, E1_midpoint, \"-.\", c=\"blue\", linewidth=3)\n",
    "gamma = 0.18\n",
    "ax.plot(sol_midpoint_t, np.exp(gamma*sol_midpoint_t)*2e-2, linewidth=3)\n",
    "\n",
    "ax.set_yscale(\"log\")\n",
    "ax.spines['right'].set_visible(False)\n",
    "ax.spines['top'].set_visible(False)\n",
    "ax.set_ylabel(\"$|\\hat{E}(1)|$\")\n",
    "ax.set_xlabel(\"$ t$\")\n",
    "ax.set_xlim(0, T)\n",
    "plt.tight_layout()\n",
    "plt.savefig(\"../figs/SW/bump_on_tail/bump_on_tail_electric_growth_rate_\"+ str(Nv) + \".png\", dpi=600)"
   ]
  },
  {
   "cell_type": "code",
   "execution_count": null,
   "id": "3f4d73c5",
   "metadata": {},
   "outputs": [],
   "source": [
    "# plot phase space evolution as a function of time\n",
    "fig, ax = plt.subplots(nrows=5, sharex=True, figsize=(6, 12))\n",
    "for tt, ii in enumerate(range(0, len(sol_midpoint_t), int(len(sol_midpoint_t)/4))):\n",
    "    distribution = np.zeros((Nx, len(v)))\n",
    "    for jj in range(Nv):\n",
    "        distribution += np.outer(np.append(state_e2_midpoint[jj, :, ii], state_e2_midpoint[jj, 0, ii]), psi_ln_sw((v-u_e2)/alpha_e2, n=jj))+ np.outer(np.append(state_e1_midpoint[jj, :, ii], state_e1_midpoint[jj, 0, ii]), psi_ln_sw((v-u_e1)/alpha_e1, n=jj))\n",
    "    levels = np.append(-0.1, np.linspace(0, 0.4, 15))\n",
    "    colors = mcp.gen_color(cmap=\"inferno\",n=len(levels)-1)\n",
    "    pos = ax[tt].contourf(x, v, (distribution).T, levels=levels, colors=np.append([\"w\"], colors))\n",
    "    ax[tt].set_xticks([0, 5*np.pi, 10*np.pi, 15*np.pi, 20*np.pi])\n",
    "    ax[tt].set_xticklabels([r\"0\", r\"$5\\pi$\", r\"$10\\pi$\", r\"$15\\pi$\", r\"$20\\pi$\"])\n",
    "    ax[tt].set_ylabel(\"v\")\n",
    "    cbar = fig.colorbar(pos)\n",
    "    cbar.ax.set_yticks([0, 0.2, 0.4])\n",
    "    cbar.ax.set_yticklabels([\"0\", \"0.2\", \"0.4\"])\n",
    "    ax[tt].set_yticks([-8, -4, 0, 4, 8])\n",
    "    ax[tt].set_title(\"$f^{e}(x, v, t=$\" + str(int(sol_midpoint_t[ii])) + \")\", fontsize=14)\n",
    "ax[-1].set_xlabel(\"x\")\n",
    "plt.tight_layout()\n",
    "plt.savefig(\"../figs/SW/bump_on_tail/bump_on_tail_evolution_SW_\" + str(Nv) + \".png\", dpi=600)"
   ]
  },
  {
   "cell_type": "code",
   "execution_count": null,
   "id": "14e08cd5",
   "metadata": {},
   "outputs": [],
   "source": [
    "# plot the distribution function in phase space at the last timestamp \n",
    "fig, ax = plt.subplots(figsize=(6, 3))\n",
    "ii = -1\n",
    "distribution = np.zeros((Nx, len(v)))\n",
    "for jj in range(Nv):\n",
    "    distribution += np.outer(np.append(state_e2_midpoint[jj, :, ii], state_e2_midpoint[jj, 0, ii]), psi_ln_sw((v-u_e2)/alpha_e2, n=jj))+ np.outer(np.append(state_e1_midpoint[jj, :, ii], state_e1_midpoint[jj, 0, ii]), psi_ln_sw((v-u_e1)/alpha_e1, n=jj))\n",
    "levels = np.append(-0.1, np.linspace(0, 0.4, 15))\n",
    "colors = mcp.gen_color(cmap=\"inferno\",n=len(levels)-1)\n",
    "pos = ax.contourf(x, v, (distribution).T, levels=levels, colors=np.append([\"w\"], colors))\n",
    "ax.set_xlabel(\"x\")\n",
    "ax.set_xticks([0, 5*np.pi, 10*np.pi, 15*np.pi, 20*np.pi])\n",
    "ax.set_xticklabels([r\"0\", r\"$5\\pi$\", r\"$10\\pi$\", r\"$15\\pi$\", r\"$20\\pi$\"])\n",
    "ax.set_ylabel(\"v\")\n",
    "cbar = fig.colorbar(pos)\n",
    "cbar.ax.set_ylabel('$f^{e}(x, v, t=$' + str(round(sol_midpoint_t[ii], 2)) + \")\", rotation=90)\n",
    "cbar.ax.set_yticks([0, 0.1, 0.2, 0.3, 0.4])\n",
    "plt.tight_layout()\n",
    "plt.savefig(\"../figs/SW/bump_on_tail/bump_on_tail_electron_distribution_SW_\" + str(Nv) + \".png\", dpi=600)"
   ]
  },
  {
   "cell_type": "code",
   "execution_count": null,
   "id": "5b890f69-cb20-4a71-a9d8-81d25442f19d",
   "metadata": {},
   "outputs": [],
   "source": [
    "distribution_sw_sqrt = np.load(\"../data/SW_sqrt/bump_on_tail/distribution_20_\" + str(Nv) + \".npy\")"
   ]
  },
  {
   "cell_type": "code",
   "execution_count": null,
   "id": "5b37f325-fb5c-4495-b2e2-d311a4fc0a0e",
   "metadata": {},
   "outputs": [],
   "source": [
    "fig, ax = plt.subplots(ncols=1, figsize=(7, 3))\n",
    "_ = ax.plot(v, distribution_sw_sqrt[11 * Nx//20, :], c=\"red\", ls=\"-\", linewidth=2, alpha=1, label=\"SW square-root\")\n",
    "_ = ax.plot(v, distribution[11 * Nx//20, :], c=\"blue\", ls=\"--\", linewidth=2, alpha=0.8, label=\"SW\")\n",
    "ax.spines['right'].set_visible(False)\n",
    "ax.spines['top'].set_visible(False)\n",
    "ax.set_xlabel(\"v\")\n",
    "ax.set_ylabel(\"$f^{e}(x=11\\pi, v, t=20)$\")\n",
    "ax.set_xlim(-8, 8)\n",
    "legend = ax.legend(ncols=1, fancybox=False, shadow=False, fontsize=14, loc='upper right')\n",
    "legend.get_frame().set_alpha(0)\n",
    "plt.tight_layout()\n",
    "plt.tight_layout()\n",
    "plt.savefig(\"../figs/SW/bump_on_tail/filamentation_bump_on_tail_\" + str(Nv) + \".png\", dpi=600)"
   ]
  },
  {
   "cell_type": "markdown",
   "id": "0edd5b3f",
   "metadata": {},
   "source": [
    "# conservation laws: mass, momentum, and energy"
   ]
  },
  {
   "cell_type": "markdown",
   "id": "a133fb07",
   "metadata": {},
   "source": [
    "### mass conservation"
   ]
  },
  {
   "cell_type": "code",
   "execution_count": null,
   "id": "a4a81fac",
   "metadata": {},
   "outputs": [],
   "source": [
    "# compute mass at each timestamp\n",
    "mass_midpoint = np.zeros(len(sol_midpoint_t))\n",
    "\n",
    "for ii in range(0, len(sol_midpoint_t)):\n",
    "    mass_midpoint[ii] = total_mass(state=state_e1_midpoint[:, :, ii], alpha_s=alpha_e1, dx=dx, Nv=Nv)\\\n",
    "                       +total_mass(state=state_e2_midpoint[:, :, ii], alpha_s=alpha_e2, dx=dx, Nv=Nv)\\\n",
    "                       +total_mass(state=state_i_midpoint[:, :, ii], alpha_s=alpha_i, dx=dx, Nv=Nv)"
   ]
  },
  {
   "cell_type": "code",
   "execution_count": null,
   "id": "436e2488",
   "metadata": {},
   "outputs": [],
   "source": [
    "# plot mass evolution\n",
    "fig, ax = plt.subplots(figsize=(6, 4))\n",
    "ax.plot(sol_midpoint_t, np.abs(mass_midpoint - mass_midpoint[0]), \"-\")\n",
    "ax.set_yscale(\"log\")\n",
    "ax.spines['right'].set_visible(False)\n",
    "ax.spines['top'].set_visible(False)\n",
    "ax.set_ylabel(r\"$|\\mathcal{N}^{tot}(t) - \\mathcal{N}^{tot}(t=0)|$\", fontsize=15)\n",
    "ax.set_xlabel(\"$ t$\")\n",
    "ax.set_xlim(0, T)\n",
    "plt.tight_layout()"
   ]
  },
  {
   "cell_type": "markdown",
   "id": "9149c200",
   "metadata": {},
   "source": [
    "### momentum conservation"
   ]
  },
  {
   "cell_type": "code",
   "execution_count": null,
   "id": "9a130bbf",
   "metadata": {},
   "outputs": [],
   "source": [
    "# compute momentum at each timestamp\n",
    "momentum_midpoint = np.zeros(len(sol_midpoint_t))\n",
    "\n",
    "for ii in range(0, len(sol_midpoint_t)):\n",
    "    momentum_midpoint[ii] = total_momentum(state=state_e1_midpoint[:, :, ii], alpha_s=alpha_e1, dx=dx, Nv=Nv, m_s=m_e1, u_s=u_e1)\\\n",
    "                           +total_momentum(state=state_e2_midpoint[:, :, ii], alpha_s=alpha_e2, dx=dx, Nv=Nv, m_s=m_e2, u_s=u_e2)\\\n",
    "                           +total_momentum(state=state_i_midpoint[:, :, ii], alpha_s=alpha_i, dx=dx, Nv=Nv, m_s=m_i, u_s=u_i)\n",
    "    "
   ]
  },
  {
   "cell_type": "code",
   "execution_count": null,
   "id": "4f853934",
   "metadata": {},
   "outputs": [],
   "source": [
    "# plot momentum evolution \n",
    "fig, ax = plt.subplots(figsize=(6, 4))\n",
    "ax.plot(sol_midpoint_t, np.abs(momentum_midpoint-momentum_midpoint[0]), \"-\")\n",
    "ax.set_yscale(\"log\")\n",
    "ax.spines['right'].set_visible(False)\n",
    "ax.spines['top'].set_visible(False)\n",
    "ax.set_ylabel(r\"$|P_{mech}(t)-P_{mech}(t=0)|$\", fontsize=15)\n",
    "ax.set_xlabel(\"$t$\")\n",
    "ax.set_xlim(0, T)\n",
    "plt.tight_layout()"
   ]
  },
  {
   "cell_type": "markdown",
   "id": "5b53c75e",
   "metadata": {},
   "source": [
    "### energy conservation"
   ]
  },
  {
   "cell_type": "code",
   "execution_count": null,
   "id": "fe2ec284",
   "metadata": {},
   "outputs": [],
   "source": [
    "# compute energy (kinetic + potential) at each timestamp\n",
    "energy_k_midpoint = np.zeros(len(sol_midpoint_t))\n",
    "energy_p_midpoint = np.zeros(len(sol_midpoint_t))\n",
    "\n",
    "for ii in range(0, len(sol_midpoint_t)):\n",
    "    energy_k_midpoint[ii] = total_energy_k(state=state_e1_midpoint[:, :, ii], alpha_s=alpha_e1, dx=dx, Nv=Nv, m_s=m_e1, u_s=u_e1)\\\n",
    "                           +total_energy_k(state=state_e2_midpoint[:, :, ii], alpha_s=alpha_e2, dx=dx, Nv=Nv, m_s=m_e2, u_s=u_e2)\\\n",
    "                           +total_energy_k(state=state_i_midpoint[:, :, ii], alpha_s=alpha_i, dx=dx, Nv=Nv, m_s=m_i, u_s=u_i)\n",
    "    energy_p_midpoint[ii] = 0.5*dx*np.sum((E_midpoint[:-1, ii])**2)"
   ]
  },
  {
   "cell_type": "code",
   "execution_count": null,
   "id": "597a2806",
   "metadata": {},
   "outputs": [],
   "source": [
    "# plot energy evolution\n",
    "fig, ax = plt.subplots(ncols=1, figsize=(6, 4))\n",
    "ax.plot(sol_midpoint_t, np.abs(energy_p_midpoint + energy_k_midpoint -energy_p_midpoint[0]-energy_k_midpoint[0]), \"-\")\n",
    "ax.spines['right'].set_visible(False)\n",
    "ax.spines['top'].set_visible(False)\n",
    "ax.set_ylabel(r\"$|\\mathcal{\\epsilon}_{total}(t)-\\mathcal{\\epsilon}_{total}(t=0)|$\", fontsize=15)\n",
    "ax.set_xlabel(\"$ t$\")\n",
    "ax.set_xlim(0, T)\n",
    "ax.set_yscale(\"log\")\n",
    "plt.tight_layout()"
   ]
  },
  {
   "cell_type": "code",
   "execution_count": null,
   "id": "1733b40d-7be7-4f59-829e-a2a9e186f0e9",
   "metadata": {},
   "outputs": [],
   "source": [
    "# load SW square-root results\n",
    "energy_k_sw_sqrt = np.load(\"../data/SW_sqrt/bump_on_tail/kinetic_energy_\" + str(Nv)+ \".npy\")\n",
    "energy_p_sw_sqrt = np.load(\"../data/SW_sqrt/bump_on_tail/potential_energy_\" + str(Nv) + \".npy\")"
   ]
  },
  {
   "cell_type": "code",
   "execution_count": null,
   "id": "51407abb",
   "metadata": {},
   "outputs": [],
   "source": [
    "# plot exchage of kinetic and potential energy \n",
    "fig, ax = plt.subplots(ncols=1, figsize=(7, 3))\n",
    "\n",
    "_ = plt.plot(sol_midpoint_t, energy_k_midpoint- energy_k_midpoint[0], c=\"red\", ls=\"-\", linewidth=3,  label=\"$\\Delta \\mathcal{E}_{kin}$ SW\")\n",
    "_ = plt.plot(sol_midpoint_t[::30], energy_p_midpoint[::30]- energy_p_midpoint[0], \"-|\", c=\"blue\", linewidth=3, label=\"$\\Delta \\mathcal{E}_{pot}$ SW\")\n",
    "\n",
    "_ = plt.plot(sol_midpoint_t, energy_k_sw_sqrt- energy_k_sw_sqrt[0], c=\"black\", ls=\":\", linewidth=3, label=\"$\\Delta \\mathcal{E}_{kin}$ SW square-root\")\n",
    "_ = plt.plot(sol_midpoint_t, energy_p_sw_sqrt- energy_p_sw_sqrt[0], \"--\", c=\"purple\", linewidth=3, label=\"$\\Delta \\mathcal{E}_{pot}$ SW square-root\")\n",
    "\n",
    "\n",
    "_ = plt.legend()\n",
    "_ = plt.xlim(0, T)\n",
    "_ = ax.set_xticks([0, 5, 10, 15, 20])\n",
    "_ = plt.xlabel(\"t\")\n",
    "_ = plt.ylabel(\"$\\Delta E$\")\n",
    "ax.spines['right'].set_visible(False)\n",
    "ax.spines['top'].set_visible(False)\n",
    "legend = ax.legend(ncols=2, fancybox=False, shadow=False, fontsize=14, loc=(0, 0.8))\n",
    "legend.get_frame().set_alpha(0)\n",
    "plt.tight_layout()\n",
    "plt.savefig(\"../figs/SW/bump_on_tail/energy_exchange_\" + str(Nv) + \"_bump_on_tail.png\", bbox_inches='tight', dpi=600)"
   ]
  },
  {
   "cell_type": "code",
   "execution_count": null,
   "id": "e4010b35",
   "metadata": {},
   "outputs": [],
   "source": [
    "# plot overall conservation properties \n",
    "fig, ax = plt.subplots(ncols=1, figsize=(7, 3))\n",
    "ax.scatter(sol_midpoint_t[::20], np.abs(mass_midpoint-mass_midpoint[0])[::20], s=30, color=\"black\", label=r\"particle number $\\mathcal{N}(t)$\")\n",
    "ax.plot(sol_midpoint_t[::20], np.abs(momentum_midpoint-momentum_midpoint[0])[::20], \"x\", color=\"blue\", label=r\"momentum $\\mathcal{P}(t)$\")\n",
    "ax.plot(sol_midpoint_t[::20], np.abs(energy_p_midpoint + energy_k_midpoint -energy_p_midpoint[0]-energy_k_midpoint[0])[::20], \">\", color=\"purple\", label=r\"energy $\\mathcal{E}(t)$\")\n",
    "#ax.plot(sol_midpoint_t, np.abs(sol_midpoint_u[-1]), \"--\", c=\"orange\", linewidth=3, label=r\"analytic drift $\\mathcal{N}(t)$ \")\n",
    "ax.plot(sol_midpoint_t, np.abs(sol_midpoint_u[-2]), \"-\", c=\"green\", linewidth=3, label=r\"analytic drift $\\mathcal{P}(t)$\")\n",
    "ax.plot(sol_midpoint_t, np.abs(sol_midpoint_u[-4]), \":\", c=\"red\", linewidth=3, label=r\"analytic drift $\\mathcal{E}(t)$\")\n",
    "ax.set_ylim(10**-15, 10**0)\n",
    "ax.spines['right'].set_visible(False)\n",
    "ax.spines['top'].set_visible(False)\n",
    "ax.set_ylabel(r\"Absolute Error\")\n",
    "ax.set_xticks([0, 5, 10, 15, 20])\n",
    "ax.set_xlabel(\"$t$\")\n",
    "ax.set_xlim(0, T)\n",
    "ax.set_yscale(\"log\")\n",
    "legend = ax.legend(ncols=1, fontsize=14, loc='upper center', bbox_to_anchor=(0.25, 1.4))\n",
    "text = ax.text(-0.2,1.05, \" \", transform=ax.transAxes)\n",
    "legend.get_frame().set_alpha(0)\n",
    "plt.savefig(\"../figs/SW/bump_on_tail/conservation_\" + str(Nv) + \"_bump_on_tail_SW.png\", bbox_inches='tight', dpi=600)"
   ]
  },
  {
   "cell_type": "code",
   "execution_count": null,
   "id": "5f06972e-8780-48b9-9785-b8688a6e7215",
   "metadata": {},
   "outputs": [],
   "source": []
  },
  {
   "cell_type": "code",
   "execution_count": null,
   "id": "d90aaa91-d8e9-49e7-ab60-c4be0480e825",
   "metadata": {},
   "outputs": [],
   "source": []
  }
 ],
 "metadata": {
  "kernelspec": {
   "display_name": "Python 3 (ipykernel)",
   "language": "python",
   "name": "python3"
  },
  "language_info": {
   "codemirror_mode": {
    "name": "ipython",
    "version": 3
   },
   "file_extension": ".py",
   "mimetype": "text/x-python",
   "name": "python",
   "nbconvert_exporter": "python",
   "pygments_lexer": "ipython3",
   "version": "3.9.12"
  }
 },
 "nbformat": 4,
 "nbformat_minor": 5
}
